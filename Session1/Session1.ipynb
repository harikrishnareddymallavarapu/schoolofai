{
  "nbformat": 4,
  "nbformat_minor": 0,
  "metadata": {
    "colab": {
      "name": "Session1.ipynb",
      "provenance": [],
      "collapsed_sections": []
    },
    "kernelspec": {
      "name": "python3",
      "display_name": "Python 3"
    },
    "language_info": {
      "name": "python"
    }
  },
  "cells": [
    {
      "cell_type": "code",
      "metadata": {
        "colab": {
          "base_uri": "https://localhost:8080/"
        },
        "id": "ti4zueJMWxUt",
        "outputId": "8faf61a2-ba53-4cee-ce5f-8fa31933cc73"
      },
      "source": [
        "import torch\n",
        "print(torch.__version__)"
      ],
      "execution_count": null,
      "outputs": [
        {
          "output_type": "stream",
          "text": [
            "1.8.1+cu101\n"
          ],
          "name": "stdout"
        }
      ]
    },
    {
      "cell_type": "code",
      "metadata": {
        "colab": {
          "base_uri": "https://localhost:8080/"
        },
        "id": "y8NSa3n8bqbL",
        "outputId": "2d08fdf9-d950-4f79-ac8e-31edff2b128c"
      },
      "source": [
        "torch.get_default_dtype() \n",
        "#torch.set_default_dtype(torch.float64) # int is not supported only floats are supported "
      ],
      "execution_count": 106,
      "outputs": [
        {
          "output_type": "execute_result",
          "data": {
            "text/plain": [
              "torch.float32"
            ]
          },
          "metadata": {
            "tags": []
          },
          "execution_count": 106
        }
      ]
    },
    {
      "cell_type": "code",
      "metadata": {
        "id": "l7UcER-hcOK9",
        "colab": {
          "base_uri": "https://localhost:8080/"
        },
        "outputId": "2f43d75d-8f56-4506-a124-7eaf594d8d62"
      },
      "source": [
        "import torch\n",
        "from torch.autograd import Variable\n",
        "import torch.nn as nn\n",
        "import torch.nn.functional as F\n",
        "import torch.optim as optim\n",
        "import numpy as np\n",
        "from torchsummary import summary\n",
        "import matplotlib.pyplot as plt\n",
        "\n",
        "%matplotlib inline\n",
        "torch.manual_seed(10)"
      ],
      "execution_count": 17,
      "outputs": [
        {
          "output_type": "execute_result",
          "data": {
            "text/plain": [
              "<torch._C.Generator at 0x7f988fff08d0>"
            ]
          },
          "metadata": {
            "tags": []
          },
          "execution_count": 17
        }
      ]
    },
    {
      "cell_type": "code",
      "metadata": {
        "id": "INX8D876oDxr"
      },
      "source": [
        "#Data creation for XOR feedforward Neural Network\n",
        "x =torch.Tensor([[1,0],[0,1],[0,0],[1,1]])\n",
        "y =torch.Tensor([1,1,0,0]).view(-1,1)"
      ],
      "execution_count": 96,
      "outputs": []
    },
    {
      "cell_type": "code",
      "metadata": {
        "id": "QVVyy4ifn0-H"
      },
      "source": [
        "class XOR(nn.Module):\n",
        "  def __init__(self, input_dim = 2, output_dim=1):\n",
        "    super(XOR, self).__init__()\n",
        "    self.layer1 = nn.Linear(input_dim,5)\n",
        "    self.layer2 = nn.Linear(5, 4)\n",
        "    self.layer3 = nn.Linear(4, output_dim)\n",
        "\n",
        "  def forward(self,data):\n",
        "    data = self.layer1(data)\n",
        "    data = torch.tanh(data)\n",
        "    data = self.layer2(data)\n",
        "    data = torch.tanh(data)\n",
        "    data = self.layer3(data)\n",
        "    return data"
      ],
      "execution_count": 104,
      "outputs": []
    },
    {
      "cell_type": "code",
      "metadata": {
        "colab": {
          "base_uri": "https://localhost:8080/"
        },
        "id": "xzx4qhAsqhIo",
        "outputId": "34cb55ad-a7d7-44da-e3e8-0fff7321ff89"
      },
      "source": [
        "model = XOR()\n",
        "summary(model,(1,2))"
      ],
      "execution_count": 105,
      "outputs": [
        {
          "output_type": "stream",
          "text": [
            "----------------------------------------------------------------\n",
            "        Layer (type)               Output Shape         Param #\n",
            "================================================================\n",
            "            Linear-1                 [-1, 1, 5]              15\n",
            "            Linear-2                 [-1, 1, 4]              24\n",
            "            Linear-3                 [-1, 1, 1]               5\n",
            "================================================================\n",
            "Total params: 44\n",
            "Trainable params: 44\n",
            "Non-trainable params: 0\n",
            "----------------------------------------------------------------\n",
            "Input size (MB): 0.00\n",
            "Forward/backward pass size (MB): 0.00\n",
            "Params size (MB): 0.00\n",
            "Estimated Total Size (MB): 0.00\n",
            "----------------------------------------------------------------\n"
          ],
          "name": "stdout"
        }
      ]
    },
    {
      "cell_type": "code",
      "metadata": {
        "id": "vmL82yCKsUyA"
      },
      "source": [
        "def weights_init(model):\n",
        "  for m in model.modules():\n",
        "    if isinstance(m, nn.Linear):\n",
        "        m.weight.data.normal_(0, 1)\n",
        "\n",
        "weights_init(model)"
      ],
      "execution_count": 99,
      "outputs": []
    },
    {
      "cell_type": "code",
      "metadata": {
        "id": "xqZTSgbRNUz3"
      },
      "source": [
        "loss_func = nn.L1Loss()"
      ],
      "execution_count": 100,
      "outputs": []
    },
    {
      "cell_type": "code",
      "metadata": {
        "id": "1SYNC3cuNgrT"
      },
      "source": [
        "optimizer = optim.SGD(model.parameters(), lr=0.02, momentum=0.9)"
      ],
      "execution_count": 101,
      "outputs": []
    },
    {
      "cell_type": "code",
      "metadata": {
        "colab": {
          "base_uri": "https://localhost:8080/"
        },
        "id": "GfyVzQimNhxo",
        "outputId": "8766def2-5690-4c1f-834b-19061a1bfce7"
      },
      "source": [
        "epochs = 2001\n",
        "steps = x.size(0)\n",
        "for i in range(epochs):\n",
        "    for j in range(steps):\n",
        "        data_point = np.random.randint(x.size(0))\n",
        "        x_var = Variable(x[data_point], requires_grad=False)\n",
        "        y_var = Variable(y[data_point], requires_grad=False)\n",
        "        \n",
        "        optimizer.zero_grad()\n",
        "        y_hat = model(x_var)\n",
        "        loss = loss_func.forward(y_hat, y_var)\n",
        "        loss.backward()\n",
        "        optimizer.step()\n",
        "        \n",
        "    if i % 50 == 0:\n",
        "        print( \"Epoch: {0}, Loss: {1}, \".format(i, loss.data.numpy()))"
      ],
      "execution_count": 103,
      "outputs": [
        {
          "output_type": "stream",
          "text": [
            "/usr/local/lib/python3.7/dist-packages/torch/nn/modules/loss.py:96: UserWarning: Using a target size (torch.Size([1])) that is different to the input size (torch.Size([4])). This will likely lead to incorrect results due to broadcasting. Please ensure they have the same size.\n",
            "  return F.l1_loss(input, target, reduction=self.reduction)\n"
          ],
          "name": "stderr"
        },
        {
          "output_type": "stream",
          "text": [
            "Epoch: 0, Loss: 0.056607067584991455, \n",
            "Epoch: 50, Loss: 0.052496910095214844, \n",
            "Epoch: 100, Loss: 0.08656296133995056, \n",
            "Epoch: 150, Loss: 0.06896613538265228, \n",
            "Epoch: 200, Loss: 0.036521002650260925, \n",
            "Epoch: 250, Loss: 0.04037456214427948, \n",
            "Epoch: 300, Loss: 0.07286842167377472, \n",
            "Epoch: 350, Loss: 0.0638652890920639, \n",
            "Epoch: 400, Loss: 0.019843056797981262, \n",
            "Epoch: 450, Loss: 0.05445897579193115, \n",
            "Epoch: 500, Loss: 0.03707572817802429, \n",
            "Epoch: 550, Loss: 0.014007572084665298, \n",
            "Epoch: 600, Loss: 0.01879790425300598, \n",
            "Epoch: 650, Loss: 0.04197268187999725, \n",
            "Epoch: 700, Loss: 0.007658347487449646, \n",
            "Epoch: 750, Loss: 0.09110504388809204, \n",
            "Epoch: 800, Loss: 0.02411825954914093, \n",
            "Epoch: 850, Loss: 0.020694345235824585, \n",
            "Epoch: 900, Loss: 0.038411736488342285, \n",
            "Epoch: 950, Loss: 0.0351056233048439, \n",
            "Epoch: 1000, Loss: 0.03969147056341171, \n",
            "Epoch: 1050, Loss: 0.0254177488386631, \n",
            "Epoch: 1100, Loss: 0.10271228104829788, \n",
            "Epoch: 1150, Loss: 0.05965432524681091, \n",
            "Epoch: 1200, Loss: 0.058700934052467346, \n",
            "Epoch: 1250, Loss: 0.046920135617256165, \n",
            "Epoch: 1300, Loss: 0.07555067539215088, \n",
            "Epoch: 1350, Loss: 0.019259478896856308, \n",
            "Epoch: 1400, Loss: 0.032279953360557556, \n",
            "Epoch: 1450, Loss: 0.129647895693779, \n",
            "Epoch: 1500, Loss: 0.015177175402641296, \n",
            "Epoch: 1550, Loss: 0.025630250573158264, \n",
            "Epoch: 1600, Loss: 0.04767126590013504, \n",
            "Epoch: 1650, Loss: 0.02726510539650917, \n",
            "Epoch: 1700, Loss: 0.05149790644645691, \n",
            "Epoch: 1750, Loss: 0.05800647288560867, \n",
            "Epoch: 1800, Loss: 0.04887163266539574, \n",
            "Epoch: 1850, Loss: 0.01620936393737793, \n",
            "Epoch: 1900, Loss: 0.0902969092130661, \n",
            "Epoch: 1950, Loss: 0.03752714395523071, \n",
            "Epoch: 2000, Loss: 0.1282239854335785, \n"
          ],
          "name": "stdout"
        }
      ]
    }
  ]
}